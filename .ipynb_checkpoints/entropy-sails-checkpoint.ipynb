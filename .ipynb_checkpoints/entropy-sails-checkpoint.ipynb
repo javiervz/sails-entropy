{
 "cells": [
  {
   "cell_type": "markdown",
   "metadata": {},
   "source": [
    "# SAILS"
   ]
  },
  {
   "cell_type": "markdown",
   "metadata": {},
   "source": [
    "## (1) Datos de Glottolog"
   ]
  },
  {
   "cell_type": "code",
   "execution_count": 1,
   "metadata": {},
   "outputs": [],
   "source": [
    "## usamos pandas para leer los datos\n",
    "\n",
    "import pandas as pd"
   ]
  },
  {
   "cell_type": "code",
   "execution_count": 2,
   "metadata": {},
   "outputs": [],
   "source": [
    "## diccionario iso:glottocode\n",
    "## https://glottolog.org/meta/downloads\n",
    "\n",
    "langs = pd.read_csv('languages_and_dialects_geo.csv',sep=',')"
   ]
  },
  {
   "cell_type": "code",
   "execution_count": 3,
   "metadata": {},
   "outputs": [],
   "source": [
    "## filtramos por lenguas de las Américas\n",
    "\n",
    "macroarea = langs[['glottocode','macroarea']]\n",
    "macroarea = macroarea.dropna()"
   ]
  },
  {
   "cell_type": "code",
   "execution_count": 4,
   "metadata": {},
   "outputs": [],
   "source": [
    "## creamos un diccionario iso:macroarea\n",
    "## filtramos por macroarea 'South America' y 'North America'\n",
    "\n",
    "macroarea = dict(zip(macroarea['glottocode'], macroarea['macroarea']))\n",
    "macroarea = {language:macroarea[language] for language in macroarea.keys() if macroarea[language] in ['South America','North America']}"
   ]
  },
  {
   "cell_type": "code",
   "execution_count": 5,
   "metadata": {},
   "outputs": [
    {
     "name": "stdout",
     "output_type": "stream",
     "text": [
      "2382\n"
     ]
    }
   ],
   "source": [
    "print(len(macroarea))"
   ]
  },
  {
   "cell_type": "code",
   "execution_count": 6,
   "metadata": {},
   "outputs": [],
   "source": [
    "## familias de las Américas"
   ]
  },
  {
   "cell_type": "code",
   "execution_count": 11,
   "metadata": {},
   "outputs": [],
   "source": [
    "## miramos languoids\n",
    "\n",
    "languoid = pd.read_csv('languoid.csv',sep=',')"
   ]
  },
  {
   "cell_type": "code",
   "execution_count": 12,
   "metadata": {},
   "outputs": [
    {
     "data": {
      "text/html": [
       "<div>\n",
       "<style scoped>\n",
       "    .dataframe tbody tr th:only-of-type {\n",
       "        vertical-align: middle;\n",
       "    }\n",
       "\n",
       "    .dataframe tbody tr th {\n",
       "        vertical-align: top;\n",
       "    }\n",
       "\n",
       "    .dataframe thead th {\n",
       "        text-align: right;\n",
       "    }\n",
       "</style>\n",
       "<table border=\"1\" class=\"dataframe\">\n",
       "  <thead>\n",
       "    <tr style=\"text-align: right;\">\n",
       "      <th></th>\n",
       "      <th>id</th>\n",
       "      <th>family_id</th>\n",
       "      <th>parent_id</th>\n",
       "      <th>name</th>\n",
       "      <th>bookkeeping</th>\n",
       "      <th>level</th>\n",
       "      <th>latitude</th>\n",
       "      <th>longitude</th>\n",
       "      <th>iso639P3code</th>\n",
       "      <th>description</th>\n",
       "      <th>markup_description</th>\n",
       "      <th>child_family_count</th>\n",
       "      <th>child_language_count</th>\n",
       "      <th>child_dialect_count</th>\n",
       "      <th>country_ids</th>\n",
       "    </tr>\n",
       "  </thead>\n",
       "  <tbody>\n",
       "    <tr>\n",
       "      <th>0</th>\n",
       "      <td>3adt1234</td>\n",
       "      <td>afro1255</td>\n",
       "      <td>nort3292</td>\n",
       "      <td>3Ad-Tekles</td>\n",
       "      <td>False</td>\n",
       "      <td>dialect</td>\n",
       "      <td>NaN</td>\n",
       "      <td>NaN</td>\n",
       "      <td>NaN</td>\n",
       "      <td>NaN</td>\n",
       "      <td>NaN</td>\n",
       "      <td>0</td>\n",
       "      <td>0</td>\n",
       "      <td>0</td>\n",
       "      <td>NaN</td>\n",
       "    </tr>\n",
       "    <tr>\n",
       "      <th>1</th>\n",
       "      <td>aala1237</td>\n",
       "      <td>aust1307</td>\n",
       "      <td>ramo1244</td>\n",
       "      <td>Aalawa</td>\n",
       "      <td>False</td>\n",
       "      <td>dialect</td>\n",
       "      <td>NaN</td>\n",
       "      <td>NaN</td>\n",
       "      <td>NaN</td>\n",
       "      <td>NaN</td>\n",
       "      <td>NaN</td>\n",
       "      <td>0</td>\n",
       "      <td>0</td>\n",
       "      <td>0</td>\n",
       "      <td>NaN</td>\n",
       "    </tr>\n",
       "    <tr>\n",
       "      <th>2</th>\n",
       "      <td>aant1238</td>\n",
       "      <td>nucl1709</td>\n",
       "      <td>nort2920</td>\n",
       "      <td>Aantantara</td>\n",
       "      <td>False</td>\n",
       "      <td>dialect</td>\n",
       "      <td>NaN</td>\n",
       "      <td>NaN</td>\n",
       "      <td>NaN</td>\n",
       "      <td>NaN</td>\n",
       "      <td>NaN</td>\n",
       "      <td>0</td>\n",
       "      <td>0</td>\n",
       "      <td>0</td>\n",
       "      <td>NaN</td>\n",
       "    </tr>\n",
       "    <tr>\n",
       "      <th>3</th>\n",
       "      <td>aari1238</td>\n",
       "      <td>sout2845</td>\n",
       "      <td>ahkk1235</td>\n",
       "      <td>Aari-Gayil</td>\n",
       "      <td>False</td>\n",
       "      <td>family</td>\n",
       "      <td>NaN</td>\n",
       "      <td>NaN</td>\n",
       "      <td>aiz</td>\n",
       "      <td>NaN</td>\n",
       "      <td>NaN</td>\n",
       "      <td>0</td>\n",
       "      <td>2</td>\n",
       "      <td>0</td>\n",
       "      <td>NaN</td>\n",
       "    </tr>\n",
       "    <tr>\n",
       "      <th>4</th>\n",
       "      <td>aari1239</td>\n",
       "      <td>sout2845</td>\n",
       "      <td>aari1238</td>\n",
       "      <td>Aari</td>\n",
       "      <td>False</td>\n",
       "      <td>language</td>\n",
       "      <td>5.95034</td>\n",
       "      <td>36.5721</td>\n",
       "      <td>aiw</td>\n",
       "      <td>NaN</td>\n",
       "      <td>NaN</td>\n",
       "      <td>0</td>\n",
       "      <td>0</td>\n",
       "      <td>0</td>\n",
       "      <td>ET</td>\n",
       "    </tr>\n",
       "    <tr>\n",
       "      <th>...</th>\n",
       "      <td>...</td>\n",
       "      <td>...</td>\n",
       "      <td>...</td>\n",
       "      <td>...</td>\n",
       "      <td>...</td>\n",
       "      <td>...</td>\n",
       "      <td>...</td>\n",
       "      <td>...</td>\n",
       "      <td>...</td>\n",
       "      <td>...</td>\n",
       "      <td>...</td>\n",
       "      <td>...</td>\n",
       "      <td>...</td>\n",
       "      <td>...</td>\n",
       "      <td>...</td>\n",
       "    </tr>\n",
       "    <tr>\n",
       "      <th>25434</th>\n",
       "      <td>zuti1239</td>\n",
       "      <td>tupi1275</td>\n",
       "      <td>guaj1255</td>\n",
       "      <td>Guajajára of Zutiua</td>\n",
       "      <td>False</td>\n",
       "      <td>dialect</td>\n",
       "      <td>NaN</td>\n",
       "      <td>NaN</td>\n",
       "      <td>NaN</td>\n",
       "      <td>NaN</td>\n",
       "      <td>NaN</td>\n",
       "      <td>0</td>\n",
       "      <td>0</td>\n",
       "      <td>0</td>\n",
       "      <td>NaN</td>\n",
       "    </tr>\n",
       "    <tr>\n",
       "      <th>25435</th>\n",
       "      <td>zuwa1238</td>\n",
       "      <td>koia1260</td>\n",
       "      <td>omie1241</td>\n",
       "      <td>Zuwadza</td>\n",
       "      <td>False</td>\n",
       "      <td>dialect</td>\n",
       "      <td>NaN</td>\n",
       "      <td>NaN</td>\n",
       "      <td>NaN</td>\n",
       "      <td>NaN</td>\n",
       "      <td>NaN</td>\n",
       "      <td>0</td>\n",
       "      <td>0</td>\n",
       "      <td>0</td>\n",
       "      <td>NaN</td>\n",
       "    </tr>\n",
       "    <tr>\n",
       "      <th>25436</th>\n",
       "      <td>zwal1238</td>\n",
       "      <td>atla1278</td>\n",
       "      <td>shal1242</td>\n",
       "      <td>Zwall</td>\n",
       "      <td>False</td>\n",
       "      <td>dialect</td>\n",
       "      <td>NaN</td>\n",
       "      <td>NaN</td>\n",
       "      <td>NaN</td>\n",
       "      <td>NaN</td>\n",
       "      <td>NaN</td>\n",
       "      <td>0</td>\n",
       "      <td>0</td>\n",
       "      <td>0</td>\n",
       "      <td>NaN</td>\n",
       "    </tr>\n",
       "    <tr>\n",
       "      <th>25437</th>\n",
       "      <td>zyph1238</td>\n",
       "      <td>sino1245</td>\n",
       "      <td>nucl1757</td>\n",
       "      <td>Zyphe</td>\n",
       "      <td>False</td>\n",
       "      <td>language</td>\n",
       "      <td>22.52400</td>\n",
       "      <td>93.2640</td>\n",
       "      <td>zyp</td>\n",
       "      <td>NaN</td>\n",
       "      <td>NaN</td>\n",
       "      <td>0</td>\n",
       "      <td>0</td>\n",
       "      <td>2</td>\n",
       "      <td>IN MM</td>\n",
       "    </tr>\n",
       "    <tr>\n",
       "      <th>25438</th>\n",
       "      <td>zyud1238</td>\n",
       "      <td>ural1272</td>\n",
       "      <td>komi1269</td>\n",
       "      <td>Zyuzdin</td>\n",
       "      <td>False</td>\n",
       "      <td>dialect</td>\n",
       "      <td>NaN</td>\n",
       "      <td>NaN</td>\n",
       "      <td>NaN</td>\n",
       "      <td>NaN</td>\n",
       "      <td>NaN</td>\n",
       "      <td>0</td>\n",
       "      <td>0</td>\n",
       "      <td>0</td>\n",
       "      <td>NaN</td>\n",
       "    </tr>\n",
       "  </tbody>\n",
       "</table>\n",
       "<p>25439 rows × 15 columns</p>\n",
       "</div>"
      ],
      "text/plain": [
       "             id family_id parent_id                 name  bookkeeping  \\\n",
       "0      3adt1234  afro1255  nort3292           3Ad-Tekles        False   \n",
       "1      aala1237  aust1307  ramo1244               Aalawa        False   \n",
       "2      aant1238  nucl1709  nort2920           Aantantara        False   \n",
       "3      aari1238  sout2845  ahkk1235           Aari-Gayil        False   \n",
       "4      aari1239  sout2845  aari1238                 Aari        False   \n",
       "...         ...       ...       ...                  ...          ...   \n",
       "25434  zuti1239  tupi1275  guaj1255  Guajajára of Zutiua        False   \n",
       "25435  zuwa1238  koia1260  omie1241              Zuwadza        False   \n",
       "25436  zwal1238  atla1278  shal1242                Zwall        False   \n",
       "25437  zyph1238  sino1245  nucl1757                Zyphe        False   \n",
       "25438  zyud1238  ural1272  komi1269              Zyuzdin        False   \n",
       "\n",
       "          level  latitude  longitude iso639P3code  description  \\\n",
       "0       dialect       NaN        NaN          NaN          NaN   \n",
       "1       dialect       NaN        NaN          NaN          NaN   \n",
       "2       dialect       NaN        NaN          NaN          NaN   \n",
       "3        family       NaN        NaN          aiz          NaN   \n",
       "4      language   5.95034    36.5721          aiw          NaN   \n",
       "...         ...       ...        ...          ...          ...   \n",
       "25434   dialect       NaN        NaN          NaN          NaN   \n",
       "25435   dialect       NaN        NaN          NaN          NaN   \n",
       "25436   dialect       NaN        NaN          NaN          NaN   \n",
       "25437  language  22.52400    93.2640          zyp          NaN   \n",
       "25438   dialect       NaN        NaN          NaN          NaN   \n",
       "\n",
       "       markup_description  child_family_count  child_language_count  \\\n",
       "0                     NaN                   0                     0   \n",
       "1                     NaN                   0                     0   \n",
       "2                     NaN                   0                     0   \n",
       "3                     NaN                   0                     2   \n",
       "4                     NaN                   0                     0   \n",
       "...                   ...                 ...                   ...   \n",
       "25434                 NaN                   0                     0   \n",
       "25435                 NaN                   0                     0   \n",
       "25436                 NaN                   0                     0   \n",
       "25437                 NaN                   0                     0   \n",
       "25438                 NaN                   0                     0   \n",
       "\n",
       "       child_dialect_count country_ids  \n",
       "0                        0         NaN  \n",
       "1                        0         NaN  \n",
       "2                        0         NaN  \n",
       "3                        0         NaN  \n",
       "4                        0          ET  \n",
       "...                    ...         ...  \n",
       "25434                    0         NaN  \n",
       "25435                    0         NaN  \n",
       "25436                    0         NaN  \n",
       "25437                    2       IN MM  \n",
       "25438                    0         NaN  \n",
       "\n",
       "[25439 rows x 15 columns]"
      ]
     },
     "execution_count": 12,
     "metadata": {},
     "output_type": "execute_result"
    }
   ],
   "source": [
    "languoid"
   ]
  },
  {
   "cell_type": "code",
   "execution_count": 13,
   "metadata": {},
   "outputs": [],
   "source": [
    "## filtramos id:family_id (family)\n",
    "\n",
    "location = languoid[['id','latitude','longitude']]\n",
    "location = location.dropna()"
   ]
  },
  {
   "cell_type": "code",
   "execution_count": 14,
   "metadata": {},
   "outputs": [],
   "source": [
    "location_lat = dict(zip(location['id'],location['latitude']))\n",
    "location_lon = dict(zip(location['id'],location['longitude']))"
   ]
  },
  {
   "cell_type": "code",
   "execution_count": 15,
   "metadata": {},
   "outputs": [],
   "source": [
    "location = {key:[location_lat[key],location_lon[key]] for key in location_lat.keys()}"
   ]
  },
  {
   "cell_type": "code",
   "execution_count": 16,
   "metadata": {},
   "outputs": [
    {
     "data": {
      "text/plain": [
       "8437"
      ]
     },
     "execution_count": 16,
     "metadata": {},
     "output_type": "execute_result"
    }
   ],
   "source": [
    "len(location)"
   ]
  },
  {
   "cell_type": "code",
   "execution_count": 17,
   "metadata": {},
   "outputs": [],
   "source": [
    "## filtramos id:family_id (family)\n",
    "\n",
    "id_family = languoid[['id','family_id']]\n",
    "id_family = id_family.dropna()"
   ]
  },
  {
   "cell_type": "code",
   "execution_count": 18,
   "metadata": {},
   "outputs": [],
   "source": [
    "## filtramos id:parent_id (genus)\n",
    "\n",
    "glotto_iso = languoid[['id','iso639P3code']]\n",
    "glotto_iso = glotto_iso.dropna()"
   ]
  },
  {
   "cell_type": "code",
   "execution_count": 19,
   "metadata": {},
   "outputs": [],
   "source": [
    "## transformamos a diccionario\n",
    "\n",
    "glotto_iso = dict(zip(glotto_iso['id'], glotto_iso['iso639P3code']))\n",
    "glotto_iso = {language:glotto_iso[language] for language in glotto_iso.keys() if language in macroarea.keys()}"
   ]
  },
  {
   "cell_type": "code",
   "execution_count": 20,
   "metadata": {},
   "outputs": [],
   "source": [
    "## transformamos a diccionario\n",
    "\n",
    "id_family = dict(zip(id_family['id'], id_family['family_id']))\n",
    "ID_family = {language:id_family[language] for language in id_family.keys() if  language in macroarea.keys()}"
   ]
  },
  {
   "cell_type": "code",
   "execution_count": 21,
   "metadata": {},
   "outputs": [
    {
     "data": {
      "text/plain": [
       "25014"
      ]
     },
     "execution_count": 21,
     "metadata": {},
     "output_type": "execute_result"
    }
   ],
   "source": [
    "len(id_family)"
   ]
  },
  {
   "cell_type": "code",
   "execution_count": 22,
   "metadata": {},
   "outputs": [
    {
     "data": {
      "text/plain": [
       "'arau1255'"
      ]
     },
     "execution_count": 22,
     "metadata": {},
     "output_type": "execute_result"
    }
   ],
   "source": [
    "id_family['huil1244']"
   ]
  },
  {
   "cell_type": "markdown",
   "metadata": {},
   "source": [
    "## (2) Datos de SAILS"
   ]
  },
  {
   "cell_type": "code",
   "execution_count": 23,
   "metadata": {},
   "outputs": [],
   "source": [
    "## rasgos\n",
    "\n",
    "features_sails = pd.read_csv('features_sails.csv',sep=',')"
   ]
  },
  {
   "cell_type": "code",
   "execution_count": 24,
   "metadata": {},
   "outputs": [],
   "source": [
    "features_sails=features_sails.rename(columns={'Unnamed: 0': 'features'})"
   ]
  },
  {
   "cell_type": "code",
   "execution_count": 25,
   "metadata": {},
   "outputs": [
    {
     "data": {
      "text/plain": [
       "167"
      ]
     },
     "execution_count": 25,
     "metadata": {},
     "output_type": "execute_result"
    }
   ],
   "source": [
    "len(list(features_sails.columns[1:]))"
   ]
  },
  {
   "cell_type": "code",
   "execution_count": 26,
   "metadata": {},
   "outputs": [],
   "source": [
    "features=list(features_sails['features'])"
   ]
  },
  {
   "cell_type": "code",
   "execution_count": 27,
   "metadata": {},
   "outputs": [],
   "source": [
    "features_pred = {}\n",
    "\n",
    "for language in list(features_sails.columns[1:]):\n",
    "    features_pred[language]=dict(zip(features,list(features_sails[language])))"
   ]
  },
  {
   "cell_type": "code",
   "execution_count": 28,
   "metadata": {},
   "outputs": [],
   "source": [
    "for language in features_pred:\n",
    "    D=features_pred[language]\n",
    "    D={k: v for k, v in D.items() if pd.Series(v).notna().all()}\n",
    "    D={key:D[key] for key in D.keys() if D[key][-2:]!='NK' and D[key][-2:]!='NA' and D[key].startswith('ARGEX5')==True} ## estructura argumental\n",
    "    #D={key:D[key] for key in D.keys() if D[key][-2:]!='NK' and D[key].startswith('TAME')==True} ## tame\n",
    "    #D={key:D[key] for key in D.keys() if D[key][-2:]!='NK' and D[key].startswith('AND')==True and D[key].startswith('ARW')==False}## todo sin arawak + andean specific\n",
    "    \n",
    "    features_pred[language]=D"
   ]
  },
  {
   "cell_type": "code",
   "execution_count": 29,
   "metadata": {},
   "outputs": [
    {
     "name": "stdout",
     "output_type": "stream",
     "text": [
      "167\n"
     ]
    }
   ],
   "source": [
    "print(len(features_pred))"
   ]
  },
  {
   "cell_type": "code",
   "execution_count": 30,
   "metadata": {},
   "outputs": [
    {
     "data": {
      "text/html": [
       "<div>\n",
       "<style scoped>\n",
       "    .dataframe tbody tr th:only-of-type {\n",
       "        vertical-align: middle;\n",
       "    }\n",
       "\n",
       "    .dataframe tbody tr th {\n",
       "        vertical-align: top;\n",
       "    }\n",
       "\n",
       "    .dataframe thead th {\n",
       "        text-align: right;\n",
       "    }\n",
       "</style>\n",
       "<table border=\"1\" class=\"dataframe\">\n",
       "  <thead>\n",
       "    <tr style=\"text-align: right;\">\n",
       "      <th></th>\n",
       "      <th>rasgos</th>\n",
       "      <th>valores de rasgos</th>\n",
       "    </tr>\n",
       "  </thead>\n",
       "  <tbody>\n",
       "    <tr>\n",
       "      <th>0</th>\n",
       "      <td>ARGEX5-1</td>\n",
       "      <td>ARGEX5-1-C</td>\n",
       "    </tr>\n",
       "    <tr>\n",
       "      <th>1</th>\n",
       "      <td>ARGEX5-2</td>\n",
       "      <td>ARGEX5-2-C</td>\n",
       "    </tr>\n",
       "    <tr>\n",
       "      <th>2</th>\n",
       "      <td>ARGEX5-3</td>\n",
       "      <td>ARGEX5-3-C</td>\n",
       "    </tr>\n",
       "    <tr>\n",
       "      <th>3</th>\n",
       "      <td>ARGEX5-4</td>\n",
       "      <td>ARGEX5-4-C</td>\n",
       "    </tr>\n",
       "    <tr>\n",
       "      <th>4</th>\n",
       "      <td>ARGEX5-5</td>\n",
       "      <td>ARGEX5-5-D</td>\n",
       "    </tr>\n",
       "    <tr>\n",
       "      <th>5</th>\n",
       "      <td>ARGEX5-6</td>\n",
       "      <td>ARGEX5-6-C</td>\n",
       "    </tr>\n",
       "    <tr>\n",
       "      <th>6</th>\n",
       "      <td>ARGEX5-7</td>\n",
       "      <td>ARGEX5-7-C</td>\n",
       "    </tr>\n",
       "    <tr>\n",
       "      <th>7</th>\n",
       "      <td>ARGEX5-8</td>\n",
       "      <td>ARGEX5-8-C</td>\n",
       "    </tr>\n",
       "    <tr>\n",
       "      <th>8</th>\n",
       "      <td>ARGEX5-9</td>\n",
       "      <td>ARGEX5-9-B</td>\n",
       "    </tr>\n",
       "  </tbody>\n",
       "</table>\n",
       "</div>"
      ],
      "text/plain": [
       "     rasgos valores de rasgos\n",
       "0  ARGEX5-1        ARGEX5-1-C\n",
       "1  ARGEX5-2        ARGEX5-2-C\n",
       "2  ARGEX5-3        ARGEX5-3-C\n",
       "3  ARGEX5-4        ARGEX5-4-C\n",
       "4  ARGEX5-5        ARGEX5-5-D\n",
       "5  ARGEX5-6        ARGEX5-6-C\n",
       "6  ARGEX5-7        ARGEX5-7-C\n",
       "7  ARGEX5-8        ARGEX5-8-C\n",
       "8  ARGEX5-9        ARGEX5-9-B"
      ]
     },
     "execution_count": 30,
     "metadata": {},
     "output_type": "execute_result"
    }
   ],
   "source": [
    "pd.DataFrame(list(features_pred['mapu1245'].items()),columns=['rasgos', 'valores de rasgos'])"
   ]
  },
  {
   "cell_type": "code",
   "execution_count": 31,
   "metadata": {},
   "outputs": [
    {
     "data": {
      "text/plain": [
       "{'ARGEX5-1': 'ARGEX5-1-C',\n",
       " 'ARGEX5-2': 'ARGEX5-2-C',\n",
       " 'ARGEX5-3': 'ARGEX5-3-C',\n",
       " 'ARGEX5-4': 'ARGEX5-4-C',\n",
       " 'ARGEX5-5': 'ARGEX5-5-D',\n",
       " 'ARGEX5-6': 'ARGEX5-6-C',\n",
       " 'ARGEX5-7': 'ARGEX5-7-C',\n",
       " 'ARGEX5-8': 'ARGEX5-8-C',\n",
       " 'ARGEX5-9': 'ARGEX5-9-B'}"
      ]
     },
     "execution_count": 31,
     "metadata": {},
     "output_type": "execute_result"
    }
   ],
   "source": [
    "features_pred['mapu1245']"
   ]
  },
  {
   "cell_type": "code",
   "execution_count": 32,
   "metadata": {},
   "outputs": [],
   "source": [
    "features_pred = {key:features_pred[key] for key in features_pred.keys() if len(features_pred[key])==9}# and key in id_family.keys()}"
   ]
  },
  {
   "cell_type": "code",
   "execution_count": 33,
   "metadata": {},
   "outputs": [
    {
     "name": "stdout",
     "output_type": "stream",
     "text": [
      "88\n"
     ]
    }
   ],
   "source": [
    "print(len(features_pred))"
   ]
  },
  {
   "cell_type": "code",
   "execution_count": 34,
   "metadata": {},
   "outputs": [
    {
     "name": "stdout",
     "output_type": "stream",
     "text": [
      "agua1253 9\n",
      "yane1238 9\n",
      "apur1254 9\n",
      "apal1257 9\n",
      "arhu1242 9\n",
      "mapu1245 9\n",
      "karo1305 9\n",
      "araw1276 9\n",
      "awet1244 9\n",
      "cent2142 9\n",
      "bora1263 9\n",
      "boro1282 9\n",
      "baur1253 9\n",
      "chip1262 9\n",
      "mose1249 9\n",
      "cavi1250 9\n",
      "chay1248 9\n",
      "chol1284 9\n",
      "coca1259 9\n",
      "colo1256 9\n",
      "cube1242 9\n",
      "desa1247 9\n",
      "emer1243 9\n",
      "nort2972 9\n",
      "guat1253 9\n",
      "hixk1239 9\n",
      "inga1252 9\n",
      "iton1250 9\n",
      "jama1261 9\n",
      "hupd1244 9\n",
      "juru1256 9\n",
      "kama1373 9\n",
      "kari1311 9\n",
      "daww1239 9\n",
      "awac1239 9\n",
      "kano1245 9\n",
      "leco1242 9\n",
      "lako1248 9\n",
      "sate1243 9\n",
      "mats1244 9\n",
      "moco1246 9\n",
      "maku1278 9\n",
      "wich1262 9\n",
      "mund1330 9\n",
      "movi1243 9\n",
      "moch1259 9\n",
      "pare1272 9\n",
      "wari1268 9\n",
      "paez1247 9\n",
      "pila1245 9\n",
      "puin1248 9\n",
      "hual1241 9\n",
      "sout2991 9\n",
      "sout2990 9\n",
      "sant1432 9\n",
      "tena1240 9\n",
      "yauy1235 9\n",
      "ayac1239 9\n",
      "cusc1236 9\n",
      "caja1238 9\n",
      "imba1240 9\n",
      "nort2980 9\n",
      "paca1245 9\n",
      "sanm1289 9\n",
      "huay1240 9\n",
      "sala1272 9\n",
      "jauj1238 9\n",
      "cane1242 9\n",
      "rikb1245 9\n",
      "saba1268 9\n",
      "nina1238 9\n",
      "ship1254 9\n",
      "saki1248 9\n",
      "tari1256 9\n",
      "tehu1242 9\n",
      "tapi1253 9\n",
      "trum1247 9\n",
      "trio1238 9\n",
      "ikpe1245 9\n",
      "urar1246 9\n",
      "uruu1244 9\n",
      "wara1303 9\n",
      "wayo1238 9\n",
      "xava1240 9\n",
      "kwaz1243 9\n",
      "yami1256 9\n",
      "nhen1239 9\n",
      "yura1255 9\n"
     ]
    }
   ],
   "source": [
    "for language in features_pred.keys():\n",
    "    print(language,len(features_pred[language]))"
   ]
  },
  {
   "cell_type": "code",
   "execution_count": 35,
   "metadata": {},
   "outputs": [],
   "source": [
    "features = []\n",
    "\n",
    "for language in features_pred.keys():\n",
    "    features+=[list(features_pred[language].keys())]"
   ]
  },
  {
   "cell_type": "code",
   "execution_count": 36,
   "metadata": {},
   "outputs": [],
   "source": [
    "features = set(features[0]).intersection(*features[1:])"
   ]
  },
  {
   "cell_type": "code",
   "execution_count": 37,
   "metadata": {},
   "outputs": [
    {
     "data": {
      "text/plain": [
       "9"
      ]
     },
     "execution_count": 37,
     "metadata": {},
     "output_type": "execute_result"
    }
   ],
   "source": [
    "len(features)"
   ]
  },
  {
   "cell_type": "markdown",
   "metadata": {},
   "source": [
    "familias de las Américas"
   ]
  },
  {
   "cell_type": "code",
   "execution_count": 39,
   "metadata": {},
   "outputs": [
    {
     "data": {
      "text/plain": [
       "25014"
      ]
     },
     "execution_count": 39,
     "metadata": {},
     "output_type": "execute_result"
    }
   ],
   "source": [
    "len(id_family)"
   ]
  },
  {
   "cell_type": "code",
   "execution_count": 40,
   "metadata": {},
   "outputs": [],
   "source": [
    "id_family = {}\n",
    "\n",
    "for key in features_pred.keys():\n",
    "    if key in ID_family.keys():\n",
    "        id_family[key]=ID_family[key]\n",
    "    else:\n",
    "        id_family[key]='unknown'"
   ]
  },
  {
   "cell_type": "code",
   "execution_count": 41,
   "metadata": {},
   "outputs": [
    {
     "data": {
      "text/plain": [
       "88"
      ]
     },
     "execution_count": 41,
     "metadata": {},
     "output_type": "execute_result"
    }
   ],
   "source": [
    "len(id_family)"
   ]
  },
  {
   "cell_type": "code",
   "execution_count": 42,
   "metadata": {},
   "outputs": [],
   "source": [
    "## agrupamos las lenguas que tienen la misma familia\n",
    "\n",
    "from collections import defaultdict\n",
    "\n",
    "v = defaultdict(list)\n",
    "\n",
    "for key, value in sorted(id_family.items()):\n",
    "    v[value].append(key)"
   ]
  },
  {
   "cell_type": "code",
   "execution_count": 43,
   "metadata": {},
   "outputs": [],
   "source": [
    "families = dict(v)"
   ]
  },
  {
   "cell_type": "code",
   "execution_count": 44,
   "metadata": {},
   "outputs": [
    {
     "data": {
      "text/plain": [
       "6"
      ]
     },
     "execution_count": 44,
     "metadata": {},
     "output_type": "execute_result"
    }
   ],
   "source": [
    "len(families['araw1281'])"
   ]
  },
  {
   "cell_type": "code",
   "execution_count": 45,
   "metadata": {},
   "outputs": [
    {
     "data": {
      "text/plain": [
       "{'jiva1245': ['agua1253'],\n",
       " 'cari1283': ['apal1257', 'hixk1239', 'ikpe1245', 'trio1238'],\n",
       " 'araw1281': ['apur1254',\n",
       "  'araw1276',\n",
       "  'baur1253',\n",
       "  'pare1272',\n",
       "  'tari1256',\n",
       "  'yane1238'],\n",
       " 'chib1249': ['arhu1242'],\n",
       " 'barb1265': ['awac1239', 'colo1256'],\n",
       " 'tupi1275': ['awet1244',\n",
       "  'coca1259',\n",
       "  'emer1243',\n",
       "  'juru1256',\n",
       "  'kama1373',\n",
       "  'kari1311',\n",
       "  'karo1305',\n",
       "  'maku1278',\n",
       "  'mund1330',\n",
       "  'nhen1239',\n",
       "  'saki1248',\n",
       "  'sate1243',\n",
       "  'tapi1253',\n",
       "  'wayo1238'],\n",
       " 'quec1387': ['ayac1239',\n",
       "  'caja1238',\n",
       "  'cusc1236',\n",
       "  'hual1241',\n",
       "  'huay1240',\n",
       "  'imba1240',\n",
       "  'inga1252',\n",
       "  'jauj1238',\n",
       "  'nort2980',\n",
       "  'paca1245',\n",
       "  'sala1272',\n",
       "  'sanm1289',\n",
       "  'sant1432',\n",
       "  'sout2990',\n",
       "  'sout2991',\n",
       "  'tena1240',\n",
       "  'yauy1235'],\n",
       " 'bora1262': ['bora1263'],\n",
       " 'boro1281': ['boro1282'],\n",
       " 'nucl1710': ['cane1242', 'rikb1245', 'xava1240'],\n",
       " 'pano1259': ['cavi1250', 'mats1244', 'ship1254', 'yami1256'],\n",
       " 'ayma1253': ['cent2142'],\n",
       " 'cahu1265': ['chay1248'],\n",
       " 'uruc1242': ['chip1262', 'uruu1244'],\n",
       " 'hibi1242': ['chol1284'],\n",
       " 'tuca1253': ['cube1242', 'desa1247'],\n",
       " 'nada1235': ['daww1239', 'hupd1244'],\n",
       " 'unknown': ['guat1253',\n",
       "  'iton1250',\n",
       "  'kano1245',\n",
       "  'kwaz1243',\n",
       "  'leco1242',\n",
       "  'moch1259',\n",
       "  'mose1249',\n",
       "  'movi1243',\n",
       "  'paez1247',\n",
       "  'puin1248',\n",
       "  'trum1247',\n",
       "  'urar1246',\n",
       "  'wara1303',\n",
       "  'yura1255'],\n",
       " 'araw1282': ['jama1261'],\n",
       " 'namb1299': ['lako1248', 'saba1268'],\n",
       " 'arau1255': ['mapu1245'],\n",
       " 'guai1249': ['moco1246', 'pila1245'],\n",
       " 'yano1268': ['nina1238'],\n",
       " 'choc1280': ['nort2972'],\n",
       " 'chon1288': ['tehu1242'],\n",
       " 'chap1271': ['wari1268'],\n",
       " 'mata1289': ['wich1262']}"
      ]
     },
     "execution_count": 45,
     "metadata": {},
     "output_type": "execute_result"
    }
   ],
   "source": [
    "families"
   ]
  },
  {
   "cell_type": "code",
   "execution_count": 46,
   "metadata": {},
   "outputs": [
    {
     "name": "stdout",
     "output_type": "stream",
     "text": [
      "jiva1245 1\n",
      "cari1283 4\n",
      "araw1281 6\n",
      "chib1249 1\n",
      "barb1265 2\n",
      "tupi1275 14\n",
      "quec1387 17\n",
      "bora1262 1\n",
      "boro1281 1\n",
      "nucl1710 3\n",
      "pano1259 4\n",
      "ayma1253 1\n",
      "cahu1265 1\n",
      "uruc1242 2\n",
      "hibi1242 1\n",
      "tuca1253 2\n",
      "nada1235 2\n",
      "unknown 14\n",
      "araw1282 1\n",
      "namb1299 2\n",
      "arau1255 1\n",
      "guai1249 2\n",
      "yano1268 1\n",
      "choc1280 1\n",
      "chon1288 1\n",
      "chap1271 1\n",
      "mata1289 1\n",
      "3.259259259259259\n"
     ]
    }
   ],
   "source": [
    "import numpy as np\n",
    "\n",
    "L=[]\n",
    "for fam in families.keys():\n",
    "    L+=[len(families[fam])]\n",
    "    print(fam,len(families[fam]))\n",
    "print(np.mean(L))"
   ]
  },
  {
   "cell_type": "markdown",
   "metadata": {},
   "source": [
    "## (3) entropy x feature"
   ]
  },
  {
   "cell_type": "code",
   "execution_count": 47,
   "metadata": {},
   "outputs": [
    {
     "data": {
      "text/plain": [
       "{'ARGEX5-1': 'ARGEX5-1-C',\n",
       " 'ARGEX5-2': 'ARGEX5-2-C',\n",
       " 'ARGEX5-3': 'ARGEX5-3-C',\n",
       " 'ARGEX5-4': 'ARGEX5-4-C',\n",
       " 'ARGEX5-5': 'ARGEX5-5-D',\n",
       " 'ARGEX5-6': 'ARGEX5-6-C',\n",
       " 'ARGEX5-7': 'ARGEX5-7-C',\n",
       " 'ARGEX5-8': 'ARGEX5-8-C',\n",
       " 'ARGEX5-9': 'ARGEX5-9-B'}"
      ]
     },
     "execution_count": 47,
     "metadata": {},
     "output_type": "execute_result"
    }
   ],
   "source": [
    "features_pred['mapu1245']"
   ]
  },
  {
   "cell_type": "code",
   "execution_count": 94,
   "metadata": {},
   "outputs": [],
   "source": [
    "from math import log, e\n",
    "def entropy(labels, base=None):\n",
    "    value,counts = np.unique(labels, return_counts=True)\n",
    "    norm_counts = counts / counts.sum()\n",
    "    base = e if base is None else base\n",
    "    return -(norm_counts * np.log(norm_counts)/np.log(base)).sum()"
   ]
  },
  {
   "cell_type": "code",
   "execution_count": 104,
   "metadata": {},
   "outputs": [],
   "source": [
    "#from scipy.stats import entropy\n",
    "\n",
    "def entropy_area(feature,area):\n",
    "    feature_values = [features_pred[L][feature] for L in area]\n",
    "    return entropy(feature_values)#[dict_features[f] for f in feature_values])"
   ]
  },
  {
   "cell_type": "code",
   "execution_count": 105,
   "metadata": {},
   "outputs": [
    {
     "data": {
      "text/plain": [
       "0.10847133903591605"
      ]
     },
     "execution_count": 105,
     "metadata": {},
     "output_type": "execute_result"
    }
   ],
   "source": [
    "entropy_area('ARGEX5-1',list(features_pred.keys()))"
   ]
  },
  {
   "cell_type": "code",
   "execution_count": 106,
   "metadata": {},
   "outputs": [
    {
     "data": {
      "text/plain": [
       "-0.0"
      ]
     },
     "execution_count": 106,
     "metadata": {},
     "output_type": "execute_result"
    }
   ],
   "source": [
    "entropy_area('ARGEX5-1',families['araw1281'])"
   ]
  },
  {
   "cell_type": "markdown",
   "metadata": {},
   "source": [
    "## (4) entropy x feature x family"
   ]
  },
  {
   "cell_type": "code",
   "execution_count": 111,
   "metadata": {},
   "outputs": [],
   "source": [
    "D = {feature:{} for feature in features_pred['mapu1245'].keys()}\n",
    "\n",
    "for feature in features_pred['mapu1245'].keys():\n",
    "    for fam in families.keys():\n",
    "        if len(families[fam])>=3:\n",
    "            D[feature][fam]=entropy_area(feature,families[fam])"
   ]
  },
  {
   "cell_type": "code",
   "execution_count": 112,
   "metadata": {},
   "outputs": [
    {
     "data": {
      "text/html": [
       "<div>\n",
       "<style scoped>\n",
       "    .dataframe tbody tr th:only-of-type {\n",
       "        vertical-align: middle;\n",
       "    }\n",
       "\n",
       "    .dataframe tbody tr th {\n",
       "        vertical-align: top;\n",
       "    }\n",
       "\n",
       "    .dataframe thead th {\n",
       "        text-align: right;\n",
       "    }\n",
       "</style>\n",
       "<table border=\"1\" class=\"dataframe\">\n",
       "  <thead>\n",
       "    <tr style=\"text-align: right;\">\n",
       "      <th></th>\n",
       "      <th>ARGEX5-1</th>\n",
       "      <th>ARGEX5-2</th>\n",
       "      <th>ARGEX5-3</th>\n",
       "      <th>ARGEX5-4</th>\n",
       "      <th>ARGEX5-5</th>\n",
       "      <th>ARGEX5-6</th>\n",
       "      <th>ARGEX5-7</th>\n",
       "      <th>ARGEX5-8</th>\n",
       "      <th>ARGEX5-9</th>\n",
       "    </tr>\n",
       "  </thead>\n",
       "  <tbody>\n",
       "    <tr>\n",
       "      <th>cari1283</th>\n",
       "      <td>-0.0</td>\n",
       "      <td>-0.000000</td>\n",
       "      <td>-0.000000</td>\n",
       "      <td>-0.000000</td>\n",
       "      <td>-0.000000</td>\n",
       "      <td>-0.000000</td>\n",
       "      <td>-0.000000</td>\n",
       "      <td>-0.000000</td>\n",
       "      <td>0.562335</td>\n",
       "    </tr>\n",
       "    <tr>\n",
       "      <th>araw1281</th>\n",
       "      <td>-0.0</td>\n",
       "      <td>-0.000000</td>\n",
       "      <td>0.450561</td>\n",
       "      <td>0.636514</td>\n",
       "      <td>0.450561</td>\n",
       "      <td>0.450561</td>\n",
       "      <td>0.450561</td>\n",
       "      <td>0.693147</td>\n",
       "      <td>-0.000000</td>\n",
       "    </tr>\n",
       "    <tr>\n",
       "      <th>tupi1275</th>\n",
       "      <td>-0.0</td>\n",
       "      <td>-0.000000</td>\n",
       "      <td>0.257319</td>\n",
       "      <td>0.410116</td>\n",
       "      <td>0.257319</td>\n",
       "      <td>0.257319</td>\n",
       "      <td>0.898205</td>\n",
       "      <td>0.655976</td>\n",
       "      <td>0.257319</td>\n",
       "    </tr>\n",
       "    <tr>\n",
       "      <th>quec1387</th>\n",
       "      <td>-0.0</td>\n",
       "      <td>-0.000000</td>\n",
       "      <td>0.223718</td>\n",
       "      <td>-0.000000</td>\n",
       "      <td>0.223718</td>\n",
       "      <td>-0.000000</td>\n",
       "      <td>-0.000000</td>\n",
       "      <td>0.649248</td>\n",
       "      <td>-0.000000</td>\n",
       "    </tr>\n",
       "    <tr>\n",
       "      <th>nucl1710</th>\n",
       "      <td>-0.0</td>\n",
       "      <td>0.636514</td>\n",
       "      <td>-0.000000</td>\n",
       "      <td>-0.000000</td>\n",
       "      <td>0.636514</td>\n",
       "      <td>0.636514</td>\n",
       "      <td>1.098612</td>\n",
       "      <td>-0.000000</td>\n",
       "      <td>0.636514</td>\n",
       "    </tr>\n",
       "    <tr>\n",
       "      <th>pano1259</th>\n",
       "      <td>-0.0</td>\n",
       "      <td>-0.000000</td>\n",
       "      <td>-0.000000</td>\n",
       "      <td>-0.000000</td>\n",
       "      <td>0.562335</td>\n",
       "      <td>-0.000000</td>\n",
       "      <td>0.562335</td>\n",
       "      <td>-0.000000</td>\n",
       "      <td>-0.000000</td>\n",
       "    </tr>\n",
       "    <tr>\n",
       "      <th>unknown</th>\n",
       "      <td>-0.0</td>\n",
       "      <td>0.410116</td>\n",
       "      <td>0.410116</td>\n",
       "      <td>0.693147</td>\n",
       "      <td>1.028514</td>\n",
       "      <td>0.892118</td>\n",
       "      <td>0.955700</td>\n",
       "      <td>1.060944</td>\n",
       "      <td>0.655976</td>\n",
       "    </tr>\n",
       "  </tbody>\n",
       "</table>\n",
       "</div>"
      ],
      "text/plain": [
       "          ARGEX5-1  ARGEX5-2  ARGEX5-3  ARGEX5-4  ARGEX5-5  ARGEX5-6  \\\n",
       "cari1283      -0.0 -0.000000 -0.000000 -0.000000 -0.000000 -0.000000   \n",
       "araw1281      -0.0 -0.000000  0.450561  0.636514  0.450561  0.450561   \n",
       "tupi1275      -0.0 -0.000000  0.257319  0.410116  0.257319  0.257319   \n",
       "quec1387      -0.0 -0.000000  0.223718 -0.000000  0.223718 -0.000000   \n",
       "nucl1710      -0.0  0.636514 -0.000000 -0.000000  0.636514  0.636514   \n",
       "pano1259      -0.0 -0.000000 -0.000000 -0.000000  0.562335 -0.000000   \n",
       "unknown       -0.0  0.410116  0.410116  0.693147  1.028514  0.892118   \n",
       "\n",
       "          ARGEX5-7  ARGEX5-8  ARGEX5-9  \n",
       "cari1283 -0.000000 -0.000000  0.562335  \n",
       "araw1281  0.450561  0.693147 -0.000000  \n",
       "tupi1275  0.898205  0.655976  0.257319  \n",
       "quec1387 -0.000000  0.649248 -0.000000  \n",
       "nucl1710  1.098612 -0.000000  0.636514  \n",
       "pano1259  0.562335 -0.000000 -0.000000  \n",
       "unknown   0.955700  1.060944  0.655976  "
      ]
     },
     "execution_count": 112,
     "metadata": {},
     "output_type": "execute_result"
    }
   ],
   "source": [
    "pd.DataFrame.from_dict(D)"
   ]
  },
  {
   "cell_type": "markdown",
   "metadata": {},
   "source": [
    "## (5) entropy x feature x geographical area"
   ]
  },
  {
   "cell_type": "code",
   "execution_count": 136,
   "metadata": {},
   "outputs": [],
   "source": [
    "areas_birchall = pd.read_csv('areas_birchall.csv',sep=',')"
   ]
  },
  {
   "cell_type": "code",
   "execution_count": 137,
   "metadata": {},
   "outputs": [],
   "source": [
    "areas_birchall = dict(zip(areas_birchall['languages'],areas_birchall['areas']))"
   ]
  },
  {
   "cell_type": "code",
   "execution_count": 138,
   "metadata": {},
   "outputs": [],
   "source": [
    "areas_birchall = {key:areas_birchall[key] for key in features_pred.keys()}"
   ]
  },
  {
   "cell_type": "code",
   "execution_count": 139,
   "metadata": {},
   "outputs": [],
   "source": [
    "## agrupamos las lenguas que tienen la misma familia\n",
    "\n",
    "from collections import defaultdict\n",
    "\n",
    "v = defaultdict(list)\n",
    "\n",
    "for key, value in sorted(areas_birchall.items()):\n",
    "    v[value].append(key)"
   ]
  },
  {
   "cell_type": "code",
   "execution_count": 140,
   "metadata": {},
   "outputs": [],
   "source": [
    "areas = dict(v)"
   ]
  },
  {
   "cell_type": "code",
   "execution_count": 141,
   "metadata": {},
   "outputs": [],
   "source": [
    "D_areas = {feature:{} for feature in features_pred['mapu1245'].keys()}\n",
    "\n",
    "for feature in features_pred['mapu1245'].keys():\n",
    "    for fam in areas.keys():\n",
    "        if len(areas[fam])>=3:\n",
    "            D_areas[feature][fam]=entropy_area(feature,areas[fam])/entropy(range(len(areas[fam])))"
   ]
  },
  {
   "cell_type": "code",
   "execution_count": 142,
   "metadata": {},
   "outputs": [
    {
     "data": {
      "text/html": [
       "<div>\n",
       "<style scoped>\n",
       "    .dataframe tbody tr th:only-of-type {\n",
       "        vertical-align: middle;\n",
       "    }\n",
       "\n",
       "    .dataframe tbody tr th {\n",
       "        vertical-align: top;\n",
       "    }\n",
       "\n",
       "    .dataframe thead th {\n",
       "        text-align: right;\n",
       "    }\n",
       "</style>\n",
       "<table border=\"1\" class=\"dataframe\">\n",
       "  <thead>\n",
       "    <tr style=\"text-align: right;\">\n",
       "      <th></th>\n",
       "      <th>ARGEX5-1</th>\n",
       "      <th>ARGEX5-2</th>\n",
       "      <th>ARGEX5-3</th>\n",
       "      <th>ARGEX5-4</th>\n",
       "      <th>ARGEX5-5</th>\n",
       "      <th>ARGEX5-6</th>\n",
       "      <th>ARGEX5-7</th>\n",
       "      <th>ARGEX5-8</th>\n",
       "      <th>ARGEX5-9</th>\n",
       "    </tr>\n",
       "  </thead>\n",
       "  <tbody>\n",
       "    <tr>\n",
       "      <th>4</th>\n",
       "      <td>-0.000000</td>\n",
       "      <td>0.204417</td>\n",
       "      <td>0.237672</td>\n",
       "      <td>0.204417</td>\n",
       "      <td>0.477485</td>\n",
       "      <td>0.370902</td>\n",
       "      <td>0.406740</td>\n",
       "      <td>0.311693</td>\n",
       "      <td>0.074232</td>\n",
       "    </tr>\n",
       "    <tr>\n",
       "      <th>2</th>\n",
       "      <td>-0.000000</td>\n",
       "      <td>0.210758</td>\n",
       "      <td>-0.000000</td>\n",
       "      <td>-0.000000</td>\n",
       "      <td>0.210758</td>\n",
       "      <td>0.210758</td>\n",
       "      <td>0.409223</td>\n",
       "      <td>-0.000000</td>\n",
       "      <td>0.210758</td>\n",
       "    </tr>\n",
       "    <tr>\n",
       "      <th>1</th>\n",
       "      <td>0.141182</td>\n",
       "      <td>0.217322</td>\n",
       "      <td>0.217322</td>\n",
       "      <td>-0.000000</td>\n",
       "      <td>0.389973</td>\n",
       "      <td>0.217322</td>\n",
       "      <td>0.277528</td>\n",
       "      <td>0.348225</td>\n",
       "      <td>-0.000000</td>\n",
       "    </tr>\n",
       "    <tr>\n",
       "      <th>5</th>\n",
       "      <td>-0.000000</td>\n",
       "      <td>0.086605</td>\n",
       "      <td>0.113992</td>\n",
       "      <td>0.209083</td>\n",
       "      <td>0.214502</td>\n",
       "      <td>0.197275</td>\n",
       "      <td>0.308722</td>\n",
       "      <td>0.326587</td>\n",
       "      <td>0.171045</td>\n",
       "    </tr>\n",
       "    <tr>\n",
       "      <th>3</th>\n",
       "      <td>-0.000000</td>\n",
       "      <td>-0.000000</td>\n",
       "      <td>0.213820</td>\n",
       "      <td>0.127844</td>\n",
       "      <td>0.265767</td>\n",
       "      <td>0.164477</td>\n",
       "      <td>0.164477</td>\n",
       "      <td>0.229156</td>\n",
       "      <td>-0.000000</td>\n",
       "    </tr>\n",
       "    <tr>\n",
       "      <th>6</th>\n",
       "      <td>-0.000000</td>\n",
       "      <td>0.158760</td>\n",
       "      <td>0.158760</td>\n",
       "      <td>0.312650</td>\n",
       "      <td>0.241080</td>\n",
       "      <td>0.311183</td>\n",
       "      <td>0.426396</td>\n",
       "      <td>0.289690</td>\n",
       "      <td>0.452856</td>\n",
       "    </tr>\n",
       "  </tbody>\n",
       "</table>\n",
       "</div>"
      ],
      "text/plain": [
       "   ARGEX5-1  ARGEX5-2  ARGEX5-3  ARGEX5-4  ARGEX5-5  ARGEX5-6  ARGEX5-7  \\\n",
       "4 -0.000000  0.204417  0.237672  0.204417  0.477485  0.370902  0.406740   \n",
       "2 -0.000000  0.210758 -0.000000 -0.000000  0.210758  0.210758  0.409223   \n",
       "1  0.141182  0.217322  0.217322 -0.000000  0.389973  0.217322  0.277528   \n",
       "5 -0.000000  0.086605  0.113992  0.209083  0.214502  0.197275  0.308722   \n",
       "3 -0.000000 -0.000000  0.213820  0.127844  0.265767  0.164477  0.164477   \n",
       "6 -0.000000  0.158760  0.158760  0.312650  0.241080  0.311183  0.426396   \n",
       "\n",
       "   ARGEX5-8  ARGEX5-9  \n",
       "4  0.311693  0.074232  \n",
       "2 -0.000000  0.210758  \n",
       "1  0.348225 -0.000000  \n",
       "5  0.326587  0.171045  \n",
       "3  0.229156 -0.000000  \n",
       "6  0.289690  0.452856  "
      ]
     },
     "execution_count": 142,
     "metadata": {},
     "output_type": "execute_result"
    }
   ],
   "source": [
    "pd.DataFrame.from_dict(D_areas)"
   ]
  },
  {
   "cell_type": "markdown",
   "metadata": {},
   "source": [
    "## (6) entropy x feature x birchall area"
   ]
  },
  {
   "cell_type": "code",
   "execution_count": 129,
   "metadata": {},
   "outputs": [],
   "source": [
    "areas_birchall_WE = {}\n",
    "\n",
    "for language in features_pred.keys():\n",
    "    if areas_birchall[language] in [1,3,4,7]:\n",
    "        areas_birchall_WE[language]=0\n",
    "    else:\n",
    "        areas_birchall_WE[language]=1"
   ]
  },
  {
   "cell_type": "code",
   "execution_count": 130,
   "metadata": {},
   "outputs": [],
   "source": [
    "## agrupamos las lenguas que tienen la misma familia\n",
    "\n",
    "from collections import defaultdict\n",
    "\n",
    "v = defaultdict(list)\n",
    "\n",
    "for key, value in sorted(areas_birchall_WE.items()):\n",
    "    v[value].append(key)"
   ]
  },
  {
   "cell_type": "code",
   "execution_count": 131,
   "metadata": {},
   "outputs": [],
   "source": [
    "areas = dict(v)"
   ]
  },
  {
   "cell_type": "code",
   "execution_count": 132,
   "metadata": {},
   "outputs": [],
   "source": [
    "D_areas = {feature:{} for feature in features_pred['mapu1245'].keys()}\n",
    "\n",
    "for feature in features_pred['mapu1245'].keys():\n",
    "    for fam in areas.keys():\n",
    "        if len(areas[fam])>=3:\n",
    "            D_areas[feature][fam]=entropy_area(feature,areas[fam])"
   ]
  },
  {
   "cell_type": "code",
   "execution_count": 133,
   "metadata": {},
   "outputs": [
    {
     "data": {
      "text/html": [
       "<div>\n",
       "<style scoped>\n",
       "    .dataframe tbody tr th:only-of-type {\n",
       "        vertical-align: middle;\n",
       "    }\n",
       "\n",
       "    .dataframe tbody tr th {\n",
       "        vertical-align: top;\n",
       "    }\n",
       "\n",
       "    .dataframe thead th {\n",
       "        text-align: right;\n",
       "    }\n",
       "</style>\n",
       "<table border=\"1\" class=\"dataframe\">\n",
       "  <thead>\n",
       "    <tr style=\"text-align: right;\">\n",
       "      <th></th>\n",
       "      <th>ARGEX5-1</th>\n",
       "      <th>ARGEX5-2</th>\n",
       "      <th>ARGEX5-3</th>\n",
       "      <th>ARGEX5-4</th>\n",
       "      <th>ARGEX5-5</th>\n",
       "      <th>ARGEX5-6</th>\n",
       "      <th>ARGEX5-7</th>\n",
       "      <th>ARGEX5-8</th>\n",
       "      <th>ARGEX5-9</th>\n",
       "    </tr>\n",
       "  </thead>\n",
       "  <tbody>\n",
       "    <tr>\n",
       "      <th>0</th>\n",
       "      <td>0.175975</td>\n",
       "      <td>0.456223</td>\n",
       "      <td>0.674699</td>\n",
       "      <td>0.488375</td>\n",
       "      <td>1.246212</td>\n",
       "      <td>0.874616</td>\n",
       "      <td>0.898536</td>\n",
       "      <td>0.922995</td>\n",
       "      <td>0.102967</td>\n",
       "    </tr>\n",
       "    <tr>\n",
       "      <th>1</th>\n",
       "      <td>-0.000000</td>\n",
       "      <td>0.319691</td>\n",
       "      <td>0.319691</td>\n",
       "      <td>0.656712</td>\n",
       "      <td>0.669225</td>\n",
       "      <td>0.628813</td>\n",
       "      <td>1.027119</td>\n",
       "      <td>0.979479</td>\n",
       "      <td>0.677086</td>\n",
       "    </tr>\n",
       "  </tbody>\n",
       "</table>\n",
       "</div>"
      ],
      "text/plain": [
       "   ARGEX5-1  ARGEX5-2  ARGEX5-3  ARGEX5-4  ARGEX5-5  ARGEX5-6  ARGEX5-7  \\\n",
       "0  0.175975  0.456223  0.674699  0.488375  1.246212  0.874616  0.898536   \n",
       "1 -0.000000  0.319691  0.319691  0.656712  0.669225  0.628813  1.027119   \n",
       "\n",
       "   ARGEX5-8  ARGEX5-9  \n",
       "0  0.922995  0.102967  \n",
       "1  0.979479  0.677086  "
      ]
     },
     "execution_count": 133,
     "metadata": {},
     "output_type": "execute_result"
    }
   ],
   "source": [
    "pd.DataFrame.from_dict(D_areas)"
   ]
  },
  {
   "cell_type": "code",
   "execution_count": null,
   "metadata": {},
   "outputs": [],
   "source": []
  }
 ],
 "metadata": {
  "kernelspec": {
   "display_name": "conda_python3",
   "language": "python",
   "name": "conda_python3"
  },
  "language_info": {
   "codemirror_mode": {
    "name": "ipython",
    "version": 3
   },
   "file_extension": ".py",
   "mimetype": "text/x-python",
   "name": "python",
   "nbconvert_exporter": "python",
   "pygments_lexer": "ipython3",
   "version": "3.6.13"
  },
  "toc": {
   "base_numbering": 1,
   "nav_menu": {},
   "number_sections": false,
   "sideBar": false,
   "skip_h1_title": false,
   "title_cell": "Table of Contents",
   "title_sidebar": "Contents",
   "toc_cell": false,
   "toc_position": {},
   "toc_section_display": false,
   "toc_window_display": false
  }
 },
 "nbformat": 4,
 "nbformat_minor": 4
}
